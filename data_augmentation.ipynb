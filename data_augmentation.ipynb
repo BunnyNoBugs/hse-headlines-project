{
  "nbformat": 4,
  "nbformat_minor": 0,
  "metadata": {
    "colab": {
      "provenance": [],
      "collapsed_sections": [
        "KFHhncZLZTDJ",
        "Wvcr_69GZMbh",
        "e7SU-FbPZQNB"
      ],
      "toc_visible": true
    },
    "kernelspec": {
      "name": "python3",
      "display_name": "Python 3"
    },
    "language_info": {
      "name": "python"
    }
  },
  "cells": [
    {
      "cell_type": "markdown",
      "source": [
        "# Data augmentation"
      ],
      "metadata": {
        "id": "GgUt6RuZfapY"
      }
    },
    {
      "cell_type": "markdown",
      "source": [
        "In the original dataset, the classes are unevenly distributed: about 75% of the headlines are classified as `Honest`, and only about 25% are `Clickbait`. To solve that problem, we're going to use the **back translation** method for data augmentation. Using the `googletrans` module, we're going to pass the headings to a chain of automatic translators (*Google Translate*) from one language to another.\n",
        "\n",
        "Then, we're going to filter the resulting headlines to ensure that they are not too similar to the original sentences. To do that, we're using the *ROUGE* score and the `rouge_score` module. Back-translated headlines with high *ROUGE* are not used for the augmentation."
      ],
      "metadata": {
        "id": "rgXDKU2Lfhlp"
      }
    },
    {
      "cell_type": "markdown",
      "source": [
        "## Requirements"
      ],
      "metadata": {
        "id": "KFHhncZLZTDJ"
      }
    },
    {
      "cell_type": "code",
      "execution_count": 1,
      "metadata": {
        "id": "Aqk415kG_bKb",
        "colab": {
          "base_uri": "https://localhost:8080/"
        },
        "outputId": "b16d8200-409f-4b0c-f84c-0f1da19ea2b8"
      },
      "outputs": [
        {
          "output_type": "stream",
          "name": "stdout",
          "text": [
            "Looking in indexes: https://pypi.org/simple, https://us-python.pkg.dev/colab-wheels/public/simple/\n",
            "Requirement already satisfied: numpy in /usr/local/lib/python3.9/dist-packages (1.22.4)\n",
            "Collecting pymorphy2\n",
            "  Downloading pymorphy2-0.9.1-py3-none-any.whl (55 kB)\n",
            "\u001b[2K     \u001b[90m━━━━━━━━━━━━━━━━━━━━━━━━━━━━━━━━━━━━━━━━\u001b[0m \u001b[32m55.5/55.5 KB\u001b[0m \u001b[31m5.5 MB/s\u001b[0m eta \u001b[36m0:00:00\u001b[0m\n",
            "\u001b[?25hCollecting rouge-score\n",
            "  Downloading rouge_score-0.1.2.tar.gz (17 kB)\n",
            "  Preparing metadata (setup.py) ... \u001b[?25l\u001b[?25hdone\n",
            "Collecting docopt>=0.6\n",
            "  Downloading docopt-0.6.2.tar.gz (25 kB)\n",
            "  Preparing metadata (setup.py) ... \u001b[?25l\u001b[?25hdone\n",
            "Collecting pymorphy2-dicts-ru<3.0,>=2.4\n",
            "  Downloading pymorphy2_dicts_ru-2.4.417127.4579844-py2.py3-none-any.whl (8.2 MB)\n",
            "\u001b[2K     \u001b[90m━━━━━━━━━━━━━━━━━━━━━━━━━━━━━━━━━━━━━━━━\u001b[0m \u001b[32m8.2/8.2 MB\u001b[0m \u001b[31m64.7 MB/s\u001b[0m eta \u001b[36m0:00:00\u001b[0m\n",
            "\u001b[?25hCollecting dawg-python>=0.7.1\n",
            "  Downloading DAWG_Python-0.7.2-py2.py3-none-any.whl (11 kB)\n",
            "Requirement already satisfied: absl-py in /usr/local/lib/python3.9/dist-packages (from rouge-score) (1.4.0)\n",
            "Requirement already satisfied: nltk in /usr/local/lib/python3.9/dist-packages (from rouge-score) (3.8.1)\n",
            "Requirement already satisfied: six>=1.14.0 in /usr/local/lib/python3.9/dist-packages (from rouge-score) (1.16.0)\n",
            "Requirement already satisfied: joblib in /usr/local/lib/python3.9/dist-packages (from nltk->rouge-score) (1.1.1)\n",
            "Requirement already satisfied: click in /usr/local/lib/python3.9/dist-packages (from nltk->rouge-score) (8.1.3)\n",
            "Requirement already satisfied: tqdm in /usr/local/lib/python3.9/dist-packages (from nltk->rouge-score) (4.65.0)\n",
            "Requirement already satisfied: regex>=2021.8.3 in /usr/local/lib/python3.9/dist-packages (from nltk->rouge-score) (2022.10.31)\n",
            "Building wheels for collected packages: rouge-score, docopt\n",
            "  Building wheel for rouge-score (setup.py) ... \u001b[?25l\u001b[?25hdone\n",
            "  Created wheel for rouge-score: filename=rouge_score-0.1.2-py3-none-any.whl size=24954 sha256=4aa84ad205f699deb0e1356a487197aa17b15c0d0dde4e12158bb289faa7b555\n",
            "  Stored in directory: /root/.cache/pip/wheels/9b/3d/39/09558097d3119ca0a4d462df68f22c6f3c1b345ac63a09b86e\n",
            "  Building wheel for docopt (setup.py) ... \u001b[?25l\u001b[?25hdone\n",
            "  Created wheel for docopt: filename=docopt-0.6.2-py2.py3-none-any.whl size=13721 sha256=7f62b124157fc040375098a6f26a11541f21defa764514021766bb7184f563ab\n",
            "  Stored in directory: /root/.cache/pip/wheels/70/4a/46/1309fc853b8d395e60bafaf1b6df7845bdd82c95fd59dd8d2b\n",
            "Successfully built rouge-score docopt\n",
            "Installing collected packages: pymorphy2-dicts-ru, docopt, dawg-python, pymorphy2, rouge-score\n",
            "Successfully installed dawg-python-0.7.2 docopt-0.6.2 pymorphy2-0.9.1 pymorphy2-dicts-ru-2.4.417127.4579844 rouge-score-0.1.2\n",
            "Looking in indexes: https://pypi.org/simple, https://us-python.pkg.dev/colab-wheels/public/simple/\n",
            "Collecting googletrans==3.1.0a0\n",
            "  Downloading googletrans-3.1.0a0.tar.gz (19 kB)\n",
            "  Preparing metadata (setup.py) ... \u001b[?25l\u001b[?25hdone\n",
            "Collecting httpx==0.13.3\n",
            "  Downloading httpx-0.13.3-py3-none-any.whl (55 kB)\n",
            "\u001b[2K     \u001b[90m━━━━━━━━━━━━━━━━━━━━━━━━━━━━━━━━━━━━━━━━\u001b[0m \u001b[32m55.1/55.1 KB\u001b[0m \u001b[31m6.9 MB/s\u001b[0m eta \u001b[36m0:00:00\u001b[0m\n",
            "\u001b[?25hCollecting idna==2.*\n",
            "  Downloading idna-2.10-py2.py3-none-any.whl (58 kB)\n",
            "\u001b[2K     \u001b[90m━━━━━━━━━━━━━━━━━━━━━━━━━━━━━━━━━━━━━━━━\u001b[0m \u001b[32m58.8/58.8 KB\u001b[0m \u001b[31m7.9 MB/s\u001b[0m eta \u001b[36m0:00:00\u001b[0m\n",
            "\u001b[?25hCollecting sniffio\n",
            "  Downloading sniffio-1.3.0-py3-none-any.whl (10 kB)\n",
            "Collecting rfc3986<2,>=1.3\n",
            "  Downloading rfc3986-1.5.0-py2.py3-none-any.whl (31 kB)\n",
            "Requirement already satisfied: certifi in /usr/local/lib/python3.9/dist-packages (from httpx==0.13.3->googletrans==3.1.0a0) (2022.12.7)\n",
            "Collecting chardet==3.*\n",
            "  Downloading chardet-3.0.4-py2.py3-none-any.whl (133 kB)\n",
            "\u001b[2K     \u001b[90m━━━━━━━━━━━━━━━━━━━━━━━━━━━━━━━━━━━━━━\u001b[0m \u001b[32m133.4/133.4 KB\u001b[0m \u001b[31m14.1 MB/s\u001b[0m eta \u001b[36m0:00:00\u001b[0m\n",
            "\u001b[?25hCollecting hstspreload\n",
            "  Downloading hstspreload-2023.1.1-py3-none-any.whl (1.5 MB)\n",
            "\u001b[2K     \u001b[90m━━━━━━━━━━━━━━━━━━━━━━━━━━━━━━━━━━━━━━━━\u001b[0m \u001b[32m1.5/1.5 MB\u001b[0m \u001b[31m68.2 MB/s\u001b[0m eta \u001b[36m0:00:00\u001b[0m\n",
            "\u001b[?25hCollecting httpcore==0.9.*\n",
            "  Downloading httpcore-0.9.1-py3-none-any.whl (42 kB)\n",
            "\u001b[2K     \u001b[90m━━━━━━━━━━━━━━━━━━━━━━━━━━━━━━━━━━━━━━━━\u001b[0m \u001b[32m42.6/42.6 KB\u001b[0m \u001b[31m5.3 MB/s\u001b[0m eta \u001b[36m0:00:00\u001b[0m\n",
            "\u001b[?25hCollecting h2==3.*\n",
            "  Downloading h2-3.2.0-py2.py3-none-any.whl (65 kB)\n",
            "\u001b[2K     \u001b[90m━━━━━━━━━━━━━━━━━━━━━━━━━━━━━━━━━━━━━━━━\u001b[0m \u001b[32m65.0/65.0 KB\u001b[0m \u001b[31m7.8 MB/s\u001b[0m eta \u001b[36m0:00:00\u001b[0m\n",
            "\u001b[?25hCollecting h11<0.10,>=0.8\n",
            "  Downloading h11-0.9.0-py2.py3-none-any.whl (53 kB)\n",
            "\u001b[2K     \u001b[90m━━━━━━━━━━━━━━━━━━━━━━━━━━━━━━━━━━━━━━━━\u001b[0m \u001b[32m53.6/53.6 KB\u001b[0m \u001b[31m7.4 MB/s\u001b[0m eta \u001b[36m0:00:00\u001b[0m\n",
            "\u001b[?25hCollecting hpack<4,>=3.0\n",
            "  Downloading hpack-3.0.0-py2.py3-none-any.whl (38 kB)\n",
            "Collecting hyperframe<6,>=5.2.0\n",
            "  Downloading hyperframe-5.2.0-py2.py3-none-any.whl (12 kB)\n",
            "Building wheels for collected packages: googletrans\n",
            "  Building wheel for googletrans (setup.py) ... \u001b[?25l\u001b[?25hdone\n",
            "  Created wheel for googletrans: filename=googletrans-3.1.0a0-py3-none-any.whl size=16368 sha256=30dd132f2a0d8976a90ebce7be229040e6adee4da03f48f2c746ee8f03001f81\n",
            "  Stored in directory: /root/.cache/pip/wheels/ae/e1/6c/5137bc3f35aa130deea71575e165cc4f4f0680a88f3d90a636\n",
            "Successfully built googletrans\n",
            "Installing collected packages: rfc3986, hyperframe, hpack, h11, chardet, sniffio, idna, hstspreload, h2, httpcore, httpx, googletrans\n",
            "  Attempting uninstall: chardet\n",
            "    Found existing installation: chardet 4.0.0\n",
            "    Uninstalling chardet-4.0.0:\n",
            "      Successfully uninstalled chardet-4.0.0\n",
            "  Attempting uninstall: idna\n",
            "    Found existing installation: idna 3.4\n",
            "    Uninstalling idna-3.4:\n",
            "      Successfully uninstalled idna-3.4\n",
            "Successfully installed chardet-3.0.4 googletrans-3.1.0a0 h11-0.9.0 h2-3.2.0 hpack-3.0.0 hstspreload-2023.1.1 httpcore-0.9.1 httpx-0.13.3 hyperframe-5.2.0 idna-2.10 rfc3986-1.5.0 sniffio-1.3.0\n"
          ]
        }
      ],
      "source": [
        "!pip install numpy pymorphy2 rouge-score\n",
        "!pip install googletrans==3.1.0a0"
      ]
    },
    {
      "cell_type": "code",
      "source": [
        "import warnings\n",
        "warnings.filterwarnings(\"ignore\")"
      ],
      "metadata": {
        "id": "O-zFfSj4T39E"
      },
      "execution_count": 2,
      "outputs": []
    },
    {
      "cell_type": "code",
      "source": [
        "import pandas as pd\n",
        "import numpy as np\n",
        "import nltk, pymorphy2, random, re\n",
        "from googletrans import Translator\n",
        "from rouge_score import rouge_scorer\n",
        "from nltk.tokenize import word_tokenize\n",
        "from tqdm import tqdm\n",
        "nltk.download(\"punkt\")"
      ],
      "metadata": {
        "id": "b4h8ZjWs_yhD",
        "colab": {
          "base_uri": "https://localhost:8080/"
        },
        "outputId": "3b76e5fa-bb6f-4c93-88e6-1297a5e55de2"
      },
      "execution_count": 3,
      "outputs": [
        {
          "output_type": "stream",
          "name": "stderr",
          "text": [
            "[nltk_data] Downloading package punkt to /root/nltk_data...\n",
            "[nltk_data]   Unzipping tokenizers/punkt.zip.\n"
          ]
        },
        {
          "output_type": "execute_result",
          "data": {
            "text/plain": [
              "True"
            ]
          },
          "metadata": {},
          "execution_count": 3
        }
      ]
    },
    {
      "cell_type": "code",
      "source": [
        "translator = Translator()\n",
        "rouge_metric = \"rougeL\"\n",
        "rouge = rouge_scorer.RougeScorer([rouge_metric])\n",
        "morph = pymorphy2.MorphAnalyzer()"
      ],
      "metadata": {
        "id": "u0IJtd2XZfOu"
      },
      "execution_count": 4,
      "outputs": []
    },
    {
      "cell_type": "markdown",
      "source": [
        "## Data"
      ],
      "metadata": {
        "id": "Wvcr_69GZMbh"
      }
    },
    {
      "cell_type": "code",
      "source": [
        "!wget https://raw.githubusercontent.com/BunnyNoBugs/hse-headlines-project/main/data/train.csv\n",
        "#!wget https://raw.githubusercontent.com/BunnyNoBugs/hse-headlines-project/main/data/test.csv\n",
        "\n",
        "train_data_filename=\"train.csv\""
      ],
      "metadata": {
        "id": "KB9Ia8je_hu9",
        "colab": {
          "base_uri": "https://localhost:8080/"
        },
        "outputId": "7cf3d301-cf61-436b-e3e9-ceffa4558ad8"
      },
      "execution_count": 5,
      "outputs": [
        {
          "output_type": "stream",
          "name": "stdout",
          "text": [
            "--2023-03-30 21:42:23--  https://raw.githubusercontent.com/BunnyNoBugs/hse-headlines-project/main/data/train.csv\n",
            "Resolving raw.githubusercontent.com (raw.githubusercontent.com)... 185.199.108.133, 185.199.109.133, 185.199.110.133, ...\n",
            "Connecting to raw.githubusercontent.com (raw.githubusercontent.com)|185.199.108.133|:443... connected.\n",
            "HTTP request sent, awaiting response... 200 OK\n",
            "Length: 175396 (171K) [text/plain]\n",
            "Saving to: ‘train.csv’\n",
            "\n",
            "\rtrain.csv             0%[                    ]       0  --.-KB/s               \rtrain.csv           100%[===================>] 171.29K  --.-KB/s    in 0.004s  \n",
            "\n",
            "2023-03-30 21:42:23 (38.5 MB/s) - ‘train.csv’ saved [175396/175396]\n",
            "\n"
          ]
        }
      ]
    },
    {
      "cell_type": "code",
      "source": [
        "train_df = pd.read_csv(train_data_filename)\n",
        "train_df = train_df[train_df[\"Type\"] != \"Dishonest\"]\n",
        "train_df"
      ],
      "metadata": {
        "id": "eK02DLaz_9Nz",
        "colab": {
          "base_uri": "https://localhost:8080/",
          "height": 423
        },
        "outputId": "f59b3392-e10a-4aa9-a2d9-476a185a5e09"
      },
      "execution_count": 6,
      "outputs": [
        {
          "output_type": "execute_result",
          "data": {
            "text/plain": [
              "                                               Headline       Type  \\\n",
              "0     В Питере семь лет простоял памятник не тому че...     Honest   \n",
              "1     США официально объявили о новых санкциях проти...     Honest   \n",
              "2     Facebook удалил страницу обсуждения штурма «Зо...     Honest   \n",
              "3                   Джонсон способен развалить Британию  Clickbait   \n",
              "4     Спортсмен–парапланерист из Москвы погиб в гора...     Honest   \n",
              "...                                                 ...        ...   \n",
              "1188  «Шашлык Live» собрал аншлаг. Почему о фестивал...     Honest   \n",
              "1189                        Роналду заговорил по-русски  Clickbait   \n",
              "1190     Двое мужчин в гаражах забили насмерть человека     Honest   \n",
              "1191  SSJ-100 СОВЕРШИЛ ЭКСТРЕННУЮ ПОСАДКУ В САМАРЕ И...     Honest   \n",
              "1192  Зеленский раскритиковал не пускавшего к нему л...     Honest   \n",
              "\n",
              "                                    Manipulative Device  \n",
              "0                                             Assertion  \n",
              "1                                              Assetion  \n",
              "2                                             Assertion  \n",
              "3     False actuality inference, Other inference(Sem...  \n",
              "4                                             Assertion  \n",
              "...                                                 ...  \n",
              "1188                                   Assertion, Quote  \n",
              "1189                            False quality inference  \n",
              "1190                                          Assertion  \n",
              "1191                                          Assertion  \n",
              "1192                         Pressupposition, Assertion  \n",
              "\n",
              "[1165 rows x 3 columns]"
            ],
            "text/html": [
              "\n",
              "  <div id=\"df-99ce6c9b-726a-414c-a96f-8bc6cbfde94e\">\n",
              "    <div class=\"colab-df-container\">\n",
              "      <div>\n",
              "<style scoped>\n",
              "    .dataframe tbody tr th:only-of-type {\n",
              "        vertical-align: middle;\n",
              "    }\n",
              "\n",
              "    .dataframe tbody tr th {\n",
              "        vertical-align: top;\n",
              "    }\n",
              "\n",
              "    .dataframe thead th {\n",
              "        text-align: right;\n",
              "    }\n",
              "</style>\n",
              "<table border=\"1\" class=\"dataframe\">\n",
              "  <thead>\n",
              "    <tr style=\"text-align: right;\">\n",
              "      <th></th>\n",
              "      <th>Headline</th>\n",
              "      <th>Type</th>\n",
              "      <th>Manipulative Device</th>\n",
              "    </tr>\n",
              "  </thead>\n",
              "  <tbody>\n",
              "    <tr>\n",
              "      <th>0</th>\n",
              "      <td>В Питере семь лет простоял памятник не тому че...</td>\n",
              "      <td>Honest</td>\n",
              "      <td>Assertion</td>\n",
              "    </tr>\n",
              "    <tr>\n",
              "      <th>1</th>\n",
              "      <td>США официально объявили о новых санкциях проти...</td>\n",
              "      <td>Honest</td>\n",
              "      <td>Assetion</td>\n",
              "    </tr>\n",
              "    <tr>\n",
              "      <th>2</th>\n",
              "      <td>Facebook удалил страницу обсуждения штурма «Зо...</td>\n",
              "      <td>Honest</td>\n",
              "      <td>Assertion</td>\n",
              "    </tr>\n",
              "    <tr>\n",
              "      <th>3</th>\n",
              "      <td>Джонсон способен развалить Британию</td>\n",
              "      <td>Clickbait</td>\n",
              "      <td>False actuality inference, Other inference(Sem...</td>\n",
              "    </tr>\n",
              "    <tr>\n",
              "      <th>4</th>\n",
              "      <td>Спортсмен–парапланерист из Москвы погиб в гора...</td>\n",
              "      <td>Honest</td>\n",
              "      <td>Assertion</td>\n",
              "    </tr>\n",
              "    <tr>\n",
              "      <th>...</th>\n",
              "      <td>...</td>\n",
              "      <td>...</td>\n",
              "      <td>...</td>\n",
              "    </tr>\n",
              "    <tr>\n",
              "      <th>1188</th>\n",
              "      <td>«Шашлык Live» собрал аншлаг. Почему о фестивал...</td>\n",
              "      <td>Honest</td>\n",
              "      <td>Assertion, Quote</td>\n",
              "    </tr>\n",
              "    <tr>\n",
              "      <th>1189</th>\n",
              "      <td>Роналду заговорил по-русски</td>\n",
              "      <td>Clickbait</td>\n",
              "      <td>False quality inference</td>\n",
              "    </tr>\n",
              "    <tr>\n",
              "      <th>1190</th>\n",
              "      <td>Двое мужчин в гаражах забили насмерть человека</td>\n",
              "      <td>Honest</td>\n",
              "      <td>Assertion</td>\n",
              "    </tr>\n",
              "    <tr>\n",
              "      <th>1191</th>\n",
              "      <td>SSJ-100 СОВЕРШИЛ ЭКСТРЕННУЮ ПОСАДКУ В САМАРЕ И...</td>\n",
              "      <td>Honest</td>\n",
              "      <td>Assertion</td>\n",
              "    </tr>\n",
              "    <tr>\n",
              "      <th>1192</th>\n",
              "      <td>Зеленский раскритиковал не пускавшего к нему л...</td>\n",
              "      <td>Honest</td>\n",
              "      <td>Pressupposition, Assertion</td>\n",
              "    </tr>\n",
              "  </tbody>\n",
              "</table>\n",
              "<p>1165 rows × 3 columns</p>\n",
              "</div>\n",
              "      <button class=\"colab-df-convert\" onclick=\"convertToInteractive('df-99ce6c9b-726a-414c-a96f-8bc6cbfde94e')\"\n",
              "              title=\"Convert this dataframe to an interactive table.\"\n",
              "              style=\"display:none;\">\n",
              "        \n",
              "  <svg xmlns=\"http://www.w3.org/2000/svg\" height=\"24px\"viewBox=\"0 0 24 24\"\n",
              "       width=\"24px\">\n",
              "    <path d=\"M0 0h24v24H0V0z\" fill=\"none\"/>\n",
              "    <path d=\"M18.56 5.44l.94 2.06.94-2.06 2.06-.94-2.06-.94-.94-2.06-.94 2.06-2.06.94zm-11 1L8.5 8.5l.94-2.06 2.06-.94-2.06-.94L8.5 2.5l-.94 2.06-2.06.94zm10 10l.94 2.06.94-2.06 2.06-.94-2.06-.94-.94-2.06-.94 2.06-2.06.94z\"/><path d=\"M17.41 7.96l-1.37-1.37c-.4-.4-.92-.59-1.43-.59-.52 0-1.04.2-1.43.59L10.3 9.45l-7.72 7.72c-.78.78-.78 2.05 0 2.83L4 21.41c.39.39.9.59 1.41.59.51 0 1.02-.2 1.41-.59l7.78-7.78 2.81-2.81c.8-.78.8-2.07 0-2.86zM5.41 20L4 18.59l7.72-7.72 1.47 1.35L5.41 20z\"/>\n",
              "  </svg>\n",
              "      </button>\n",
              "      \n",
              "  <style>\n",
              "    .colab-df-container {\n",
              "      display:flex;\n",
              "      flex-wrap:wrap;\n",
              "      gap: 12px;\n",
              "    }\n",
              "\n",
              "    .colab-df-convert {\n",
              "      background-color: #E8F0FE;\n",
              "      border: none;\n",
              "      border-radius: 50%;\n",
              "      cursor: pointer;\n",
              "      display: none;\n",
              "      fill: #1967D2;\n",
              "      height: 32px;\n",
              "      padding: 0 0 0 0;\n",
              "      width: 32px;\n",
              "    }\n",
              "\n",
              "    .colab-df-convert:hover {\n",
              "      background-color: #E2EBFA;\n",
              "      box-shadow: 0px 1px 2px rgba(60, 64, 67, 0.3), 0px 1px 3px 1px rgba(60, 64, 67, 0.15);\n",
              "      fill: #174EA6;\n",
              "    }\n",
              "\n",
              "    [theme=dark] .colab-df-convert {\n",
              "      background-color: #3B4455;\n",
              "      fill: #D2E3FC;\n",
              "    }\n",
              "\n",
              "    [theme=dark] .colab-df-convert:hover {\n",
              "      background-color: #434B5C;\n",
              "      box-shadow: 0px 1px 3px 1px rgba(0, 0, 0, 0.15);\n",
              "      filter: drop-shadow(0px 1px 2px rgba(0, 0, 0, 0.3));\n",
              "      fill: #FFFFFF;\n",
              "    }\n",
              "  </style>\n",
              "\n",
              "      <script>\n",
              "        const buttonEl =\n",
              "          document.querySelector('#df-99ce6c9b-726a-414c-a96f-8bc6cbfde94e button.colab-df-convert');\n",
              "        buttonEl.style.display =\n",
              "          google.colab.kernel.accessAllowed ? 'block' : 'none';\n",
              "\n",
              "        async function convertToInteractive(key) {\n",
              "          const element = document.querySelector('#df-99ce6c9b-726a-414c-a96f-8bc6cbfde94e');\n",
              "          const dataTable =\n",
              "            await google.colab.kernel.invokeFunction('convertToInteractive',\n",
              "                                                     [key], {});\n",
              "          if (!dataTable) return;\n",
              "\n",
              "          const docLinkHtml = 'Like what you see? Visit the ' +\n",
              "            '<a target=\"_blank\" href=https://colab.research.google.com/notebooks/data_table.ipynb>data table notebook</a>'\n",
              "            + ' to learn more about interactive tables.';\n",
              "          element.innerHTML = '';\n",
              "          dataTable['output_type'] = 'display_data';\n",
              "          await google.colab.output.renderOutput(dataTable, element);\n",
              "          const docLink = document.createElement('div');\n",
              "          docLink.innerHTML = docLinkHtml;\n",
              "          element.appendChild(docLink);\n",
              "        }\n",
              "      </script>\n",
              "    </div>\n",
              "  </div>\n",
              "  "
            ]
          },
          "metadata": {},
          "execution_count": 6
        }
      ]
    },
    {
      "cell_type": "code",
      "source": [
        "for t in train_df[\"Type\"].unique():\n",
        "    n = len(train_df[train_df[\"Type\"]==t])\n",
        "    print(t, n, round(n/len(train_df[\"Type\"]), 2))"
      ],
      "metadata": {
        "colab": {
          "base_uri": "https://localhost:8080/"
        },
        "id": "G1XAiD52hZJZ",
        "outputId": "0c9297c1-c6d2-4022-9841-339085a3747b"
      },
      "execution_count": 7,
      "outputs": [
        {
          "output_type": "stream",
          "name": "stdout",
          "text": [
            "Honest 883 0.76\n",
            "Clickbait 282 0.24\n"
          ]
        }
      ]
    },
    {
      "cell_type": "markdown",
      "source": [
        "## Back translation"
      ],
      "metadata": {
        "id": "e7SU-FbPZQNB"
      }
    },
    {
      "cell_type": "code",
      "source": [
        "s = train_df[\"Headline\"][0]\n",
        "s"
      ],
      "metadata": {
        "colab": {
          "base_uri": "https://localhost:8080/",
          "height": 36
        },
        "id": "jBn9ehLTN-4o",
        "outputId": "f97e70af-2057-400e-c51e-66c312859b0d"
      },
      "execution_count": 8,
      "outputs": [
        {
          "output_type": "execute_result",
          "data": {
            "text/plain": [
              "'В Питере семь лет простоял памятник не тому человеку'"
            ],
            "application/vnd.google.colaboratory.intrinsic+json": {
              "type": "string"
            }
          },
          "metadata": {},
          "execution_count": 8
        }
      ]
    },
    {
      "cell_type": "markdown",
      "source": [
        "We're using two chains of translations to get two different back-translations for each headline. One is *Russian → Kartuli (Georgian) → Czech → Russian*, the other is *Russian → Hebrew → Korean → Russian*. Different languages were tried out experimentally to achieve the optimal balance of aberration and semantic identity."
      ],
      "metadata": {
        "id": "dUyPxNCvhj7J"
      }
    },
    {
      "cell_type": "code",
      "source": [
        "def backtrans(sentence, chain, n=1):\n",
        "    if chain==\"ka-cs\":    # Kartuli and Czech\n",
        "        for i in range(n):\n",
        "            ka_sentence  = translator.translate(sentence,    dest=\"ka\", src=\"ru\").text\n",
        "            cs_sentence  = translator.translate(ka_sentence, dest=\"cs\", src=\"ka\").text\n",
        "            sentence     = translator.translate(cs_sentence, dest=\"ru\", src=\"cs\").text\n",
        "\n",
        "    elif chain==\"he-ko\":   # Hebrew and Korean\n",
        "        for i in range(n):\n",
        "            he_sentence  = translator.translate(sentence,    dest=\"he\", src=\"ru\").text\n",
        "            ko_sentence  = translator.translate(he_sentence, dest=\"ko\", src=\"he\").text\n",
        "            sentence     = translator.translate(ko_sentence, dest=\"ru\", src=\"ko\").text\n",
        "\n",
        "    return sentence"
      ],
      "metadata": {
        "id": "2UxwEr6RSzbf"
      },
      "execution_count": 9,
      "outputs": []
    },
    {
      "cell_type": "code",
      "source": [
        "print(s, backtrans(s, chain=\"ka-cs\"), sep=\"\\n\")"
      ],
      "metadata": {
        "colab": {
          "base_uri": "https://localhost:8080/"
        },
        "id": "-iIFof2sVM5l",
        "outputId": "d14a8b1b-74ed-4f9a-da78-69ad8d3cd02e"
      },
      "execution_count": 10,
      "outputs": [
        {
          "output_type": "stream",
          "name": "stdout",
          "text": [
            "В Питере семь лет простоял памятник не тому человеку\n",
            "Семь лет в Петербурге стоял памятник не тому человеку\n"
          ]
        }
      ]
    },
    {
      "cell_type": "markdown",
      "source": [
        "We're computing *ROUGE* score for the generated headlines and filter out those with a high score. The threshold is `0.9`. Before the measurements, all tokens are normalized with `pymorphy2`."
      ],
      "metadata": {
        "id": "qoTC5DNUiXEn"
      }
    },
    {
      "cell_type": "code",
      "source": [
        "def similarity(s, bs):\n",
        "    slovar = set()\n",
        "    s_n, bs_n = [], []\n",
        "\n",
        "    for token in word_tokenize(s):\n",
        "        token = morph.parse(token)[0].normal_form\n",
        "        s_n.append(token)\n",
        "        slovar.add(token)\n",
        "\n",
        "    for token in word_tokenize(bs):\n",
        "        token = morph.parse(token)[0].normal_form\n",
        "        bs_n.append(token)\n",
        "        slovar.add(token)\n",
        "    \n",
        "    slovar = list(slovar)\n",
        "    slovar = {slovar[i]: i for i in range(len(slovar))}\n",
        "    s_n  = \" \".join(str([slovar[w] for w in s_n]))\n",
        "    bs_n = \" \".join(str([slovar[w] for w in bs_n]))\n",
        "    return rouge.score(s_n, bs_n)[rouge_metric].fmeasure"
      ],
      "metadata": {
        "id": "aGapVIqTaPwz"
      },
      "execution_count": 11,
      "outputs": []
    },
    {
      "cell_type": "markdown",
      "source": [
        "Let's see some examples of back-translated headlines:"
      ],
      "metadata": {
        "id": "0YGEJKCdi8qB"
      }
    },
    {
      "cell_type": "code",
      "source": [
        "for i in range(7):\n",
        "    s = train_df[\"Headline\"][i]\n",
        "    bs_ka_cs = backtrans(s, chain=\"ka-cs\")\n",
        "    bs_he_ko = backtrans(s, chain=\"he-ko\")\n",
        "    print(f\"Original:\\t\\t\\t{s}\",\n",
        "          f\"Backtranslated ('ka-cs'):\\t{bs_ka_cs}\",\n",
        "          f\"{rouge_metric} F-measure ('ka-cs'):\\t{round(similarity(s, bs_ka_cs), 3)}\",\n",
        "          f\"Backtranslated ('he-ko'):\\t{bs_he_ko}\",\n",
        "          f\"{rouge_metric} F-measure ('he-ko'):\\t{round(similarity(s, bs_he_ko), 3)}\",\n",
        "          sep=\"\\n\", end=\"\\n\\n\")"
      ],
      "metadata": {
        "colab": {
          "base_uri": "https://localhost:8080/"
        },
        "id": "jGpjIle0fxhl",
        "outputId": "080fe1c2-60ff-4466-f97b-0859f50d7c18"
      },
      "execution_count": 12,
      "outputs": [
        {
          "output_type": "stream",
          "name": "stdout",
          "text": [
            "Original:\t\t\tВ Питере семь лет простоял памятник не тому человеку\n",
            "Backtranslated ('ka-cs'):\tСемь лет в Петербурге стоял памятник не тому человеку\n",
            "rougeL F-measure ('ka-cs'):\t0.632\n",
            "Backtranslated ('he-ko'):\tПамятник Не тому человеку стоит в Петербурге 7 лет\n",
            "rougeL F-measure ('he-ko'):\t0.4\n",
            "\n",
            "Original:\t\t\tСША официально объявили о новых санкциях против РФ по делу Скрипалей\n",
            "Backtranslated ('ka-cs'):\tСША официально объявили о новых санкциях против России из-за дела Скрипалей\n",
            "rougeL F-measure ('ka-cs'):\t0.815\n",
            "Backtranslated ('he-ko'):\tСША официально объявили о новых санкциях против России в связи с делом Скрипаля\n",
            "rougeL F-measure ('he-ko'):\t0.765\n",
            "\n",
            "Original:\t\t\tFacebook удалил страницу обсуждения штурма «Зоны 51»\n",
            "Backtranslated ('ka-cs'):\tFacebook закрывает страницу обсуждения Зоны 51\n",
            "rougeL F-measure ('ka-cs'):\t0.667\n",
            "Backtranslated ('he-ko'):\tFacebook удаляет страницу обсуждения Зоны 51.\n",
            "rougeL F-measure ('he-ko'):\t0.667\n",
            "\n",
            "Original:\t\t\tДжонсон способен развалить Британию\n",
            "Backtranslated ('ka-cs'):\tДжонсон может уничтожить Британию\n",
            "rougeL F-measure ('ka-cs'):\t0.5\n",
            "Backtranslated ('he-ko'):\tДжонсон может уничтожить Англию\n",
            "rougeL F-measure ('he-ko'):\t0.25\n",
            "\n",
            "Original:\t\t\tСпортсмен–парапланерист из Москвы погиб в горах Кабардино-Балкарии\n",
            "Backtranslated ('ka-cs'):\tМосковский парапланерист погиб в горах Кабардино-Балкарии\n",
            "rougeL F-measure ('ka-cs'):\t0.615\n",
            "Backtranslated ('he-ko'):\tПарапланерист из Москвы погиб на горе Кабардино-Балкария.\n",
            "rougeL F-measure ('he-ko'):\t0.667\n",
            "\n",
            "Original:\t\t\tНалог на добавленную стоимость (НДС) в России поднимут до 20 процентов\n",
            "Backtranslated ('ka-cs'):\tНалог на добавленную стоимость (НДС) в России вырастет до 20 процентов\n",
            "rougeL F-measure ('ka-cs'):\t0.941\n",
            "Backtranslated ('he-ko'):\tВ России налог на добавленную стоимость (НДС) увеличивается до 20%.\n",
            "rougeL F-measure ('he-ko'):\t0.632\n",
            "\n",
            "Original:\t\t\tТрамп испугался утечки американского оружия из Афганистана в Россию и Китай\n",
            "Backtranslated ('ka-cs'):\tТрампа беспокоит утечка американского оружия из Афганистана в Россию и Китай\n",
            "rougeL F-measure ('ka-cs'):\t0.923\n",
            "Backtranslated ('he-ko'):\tТрамп опасался поставок американского оружия из Афганистана в Россию и Китай.\n",
            "rougeL F-measure ('he-ko'):\t0.8\n",
            "\n"
          ]
        }
      ]
    },
    {
      "cell_type": "code",
      "source": [
        "def pipeline(s, chain):\n",
        "    bs = backtrans(s, chain)\n",
        "    if similarity(s, bs) < 0.9:\n",
        "        return bs\n",
        "    return None"
      ],
      "metadata": {
        "id": "Pntzdll9fn1Q"
      },
      "execution_count": 13,
      "outputs": []
    },
    {
      "cell_type": "markdown",
      "source": [
        "## Application"
      ],
      "metadata": {
        "id": "PJojQR58DZRT"
      }
    },
    {
      "cell_type": "markdown",
      "source": [
        "We're creating another column in our dataset to mark which headlines are back-translated."
      ],
      "metadata": {
        "id": "rzEAbUrgjNWZ"
      }
    },
    {
      "cell_type": "code",
      "source": [
        "train_df[\"Augmented\"] = False\n",
        "train_df"
      ],
      "metadata": {
        "colab": {
          "base_uri": "https://localhost:8080/",
          "height": 423
        },
        "id": "F73UCeUyDYxd",
        "outputId": "4af729f0-9195-4c00-b00c-83e681d97e06"
      },
      "execution_count": 14,
      "outputs": [
        {
          "output_type": "execute_result",
          "data": {
            "text/plain": [
              "                                               Headline       Type  \\\n",
              "0     В Питере семь лет простоял памятник не тому че...     Honest   \n",
              "1     США официально объявили о новых санкциях проти...     Honest   \n",
              "2     Facebook удалил страницу обсуждения штурма «Зо...     Honest   \n",
              "3                   Джонсон способен развалить Британию  Clickbait   \n",
              "4     Спортсмен–парапланерист из Москвы погиб в гора...     Honest   \n",
              "...                                                 ...        ...   \n",
              "1188  «Шашлык Live» собрал аншлаг. Почему о фестивал...     Honest   \n",
              "1189                        Роналду заговорил по-русски  Clickbait   \n",
              "1190     Двое мужчин в гаражах забили насмерть человека     Honest   \n",
              "1191  SSJ-100 СОВЕРШИЛ ЭКСТРЕННУЮ ПОСАДКУ В САМАРЕ И...     Honest   \n",
              "1192  Зеленский раскритиковал не пускавшего к нему л...     Honest   \n",
              "\n",
              "                                    Manipulative Device  Augmented  \n",
              "0                                             Assertion      False  \n",
              "1                                              Assetion      False  \n",
              "2                                             Assertion      False  \n",
              "3     False actuality inference, Other inference(Sem...      False  \n",
              "4                                             Assertion      False  \n",
              "...                                                 ...        ...  \n",
              "1188                                   Assertion, Quote      False  \n",
              "1189                            False quality inference      False  \n",
              "1190                                          Assertion      False  \n",
              "1191                                          Assertion      False  \n",
              "1192                         Pressupposition, Assertion      False  \n",
              "\n",
              "[1165 rows x 4 columns]"
            ],
            "text/html": [
              "\n",
              "  <div id=\"df-32cf61e5-3b0d-4926-b700-ab054b59432c\">\n",
              "    <div class=\"colab-df-container\">\n",
              "      <div>\n",
              "<style scoped>\n",
              "    .dataframe tbody tr th:only-of-type {\n",
              "        vertical-align: middle;\n",
              "    }\n",
              "\n",
              "    .dataframe tbody tr th {\n",
              "        vertical-align: top;\n",
              "    }\n",
              "\n",
              "    .dataframe thead th {\n",
              "        text-align: right;\n",
              "    }\n",
              "</style>\n",
              "<table border=\"1\" class=\"dataframe\">\n",
              "  <thead>\n",
              "    <tr style=\"text-align: right;\">\n",
              "      <th></th>\n",
              "      <th>Headline</th>\n",
              "      <th>Type</th>\n",
              "      <th>Manipulative Device</th>\n",
              "      <th>Augmented</th>\n",
              "    </tr>\n",
              "  </thead>\n",
              "  <tbody>\n",
              "    <tr>\n",
              "      <th>0</th>\n",
              "      <td>В Питере семь лет простоял памятник не тому че...</td>\n",
              "      <td>Honest</td>\n",
              "      <td>Assertion</td>\n",
              "      <td>False</td>\n",
              "    </tr>\n",
              "    <tr>\n",
              "      <th>1</th>\n",
              "      <td>США официально объявили о новых санкциях проти...</td>\n",
              "      <td>Honest</td>\n",
              "      <td>Assetion</td>\n",
              "      <td>False</td>\n",
              "    </tr>\n",
              "    <tr>\n",
              "      <th>2</th>\n",
              "      <td>Facebook удалил страницу обсуждения штурма «Зо...</td>\n",
              "      <td>Honest</td>\n",
              "      <td>Assertion</td>\n",
              "      <td>False</td>\n",
              "    </tr>\n",
              "    <tr>\n",
              "      <th>3</th>\n",
              "      <td>Джонсон способен развалить Британию</td>\n",
              "      <td>Clickbait</td>\n",
              "      <td>False actuality inference, Other inference(Sem...</td>\n",
              "      <td>False</td>\n",
              "    </tr>\n",
              "    <tr>\n",
              "      <th>4</th>\n",
              "      <td>Спортсмен–парапланерист из Москвы погиб в гора...</td>\n",
              "      <td>Honest</td>\n",
              "      <td>Assertion</td>\n",
              "      <td>False</td>\n",
              "    </tr>\n",
              "    <tr>\n",
              "      <th>...</th>\n",
              "      <td>...</td>\n",
              "      <td>...</td>\n",
              "      <td>...</td>\n",
              "      <td>...</td>\n",
              "    </tr>\n",
              "    <tr>\n",
              "      <th>1188</th>\n",
              "      <td>«Шашлык Live» собрал аншлаг. Почему о фестивал...</td>\n",
              "      <td>Honest</td>\n",
              "      <td>Assertion, Quote</td>\n",
              "      <td>False</td>\n",
              "    </tr>\n",
              "    <tr>\n",
              "      <th>1189</th>\n",
              "      <td>Роналду заговорил по-русски</td>\n",
              "      <td>Clickbait</td>\n",
              "      <td>False quality inference</td>\n",
              "      <td>False</td>\n",
              "    </tr>\n",
              "    <tr>\n",
              "      <th>1190</th>\n",
              "      <td>Двое мужчин в гаражах забили насмерть человека</td>\n",
              "      <td>Honest</td>\n",
              "      <td>Assertion</td>\n",
              "      <td>False</td>\n",
              "    </tr>\n",
              "    <tr>\n",
              "      <th>1191</th>\n",
              "      <td>SSJ-100 СОВЕРШИЛ ЭКСТРЕННУЮ ПОСАДКУ В САМАРЕ И...</td>\n",
              "      <td>Honest</td>\n",
              "      <td>Assertion</td>\n",
              "      <td>False</td>\n",
              "    </tr>\n",
              "    <tr>\n",
              "      <th>1192</th>\n",
              "      <td>Зеленский раскритиковал не пускавшего к нему л...</td>\n",
              "      <td>Honest</td>\n",
              "      <td>Pressupposition, Assertion</td>\n",
              "      <td>False</td>\n",
              "    </tr>\n",
              "  </tbody>\n",
              "</table>\n",
              "<p>1165 rows × 4 columns</p>\n",
              "</div>\n",
              "      <button class=\"colab-df-convert\" onclick=\"convertToInteractive('df-32cf61e5-3b0d-4926-b700-ab054b59432c')\"\n",
              "              title=\"Convert this dataframe to an interactive table.\"\n",
              "              style=\"display:none;\">\n",
              "        \n",
              "  <svg xmlns=\"http://www.w3.org/2000/svg\" height=\"24px\"viewBox=\"0 0 24 24\"\n",
              "       width=\"24px\">\n",
              "    <path d=\"M0 0h24v24H0V0z\" fill=\"none\"/>\n",
              "    <path d=\"M18.56 5.44l.94 2.06.94-2.06 2.06-.94-2.06-.94-.94-2.06-.94 2.06-2.06.94zm-11 1L8.5 8.5l.94-2.06 2.06-.94-2.06-.94L8.5 2.5l-.94 2.06-2.06.94zm10 10l.94 2.06.94-2.06 2.06-.94-2.06-.94-.94-2.06-.94 2.06-2.06.94z\"/><path d=\"M17.41 7.96l-1.37-1.37c-.4-.4-.92-.59-1.43-.59-.52 0-1.04.2-1.43.59L10.3 9.45l-7.72 7.72c-.78.78-.78 2.05 0 2.83L4 21.41c.39.39.9.59 1.41.59.51 0 1.02-.2 1.41-.59l7.78-7.78 2.81-2.81c.8-.78.8-2.07 0-2.86zM5.41 20L4 18.59l7.72-7.72 1.47 1.35L5.41 20z\"/>\n",
              "  </svg>\n",
              "      </button>\n",
              "      \n",
              "  <style>\n",
              "    .colab-df-container {\n",
              "      display:flex;\n",
              "      flex-wrap:wrap;\n",
              "      gap: 12px;\n",
              "    }\n",
              "\n",
              "    .colab-df-convert {\n",
              "      background-color: #E8F0FE;\n",
              "      border: none;\n",
              "      border-radius: 50%;\n",
              "      cursor: pointer;\n",
              "      display: none;\n",
              "      fill: #1967D2;\n",
              "      height: 32px;\n",
              "      padding: 0 0 0 0;\n",
              "      width: 32px;\n",
              "    }\n",
              "\n",
              "    .colab-df-convert:hover {\n",
              "      background-color: #E2EBFA;\n",
              "      box-shadow: 0px 1px 2px rgba(60, 64, 67, 0.3), 0px 1px 3px 1px rgba(60, 64, 67, 0.15);\n",
              "      fill: #174EA6;\n",
              "    }\n",
              "\n",
              "    [theme=dark] .colab-df-convert {\n",
              "      background-color: #3B4455;\n",
              "      fill: #D2E3FC;\n",
              "    }\n",
              "\n",
              "    [theme=dark] .colab-df-convert:hover {\n",
              "      background-color: #434B5C;\n",
              "      box-shadow: 0px 1px 3px 1px rgba(0, 0, 0, 0.15);\n",
              "      filter: drop-shadow(0px 1px 2px rgba(0, 0, 0, 0.3));\n",
              "      fill: #FFFFFF;\n",
              "    }\n",
              "  </style>\n",
              "\n",
              "      <script>\n",
              "        const buttonEl =\n",
              "          document.querySelector('#df-32cf61e5-3b0d-4926-b700-ab054b59432c button.colab-df-convert');\n",
              "        buttonEl.style.display =\n",
              "          google.colab.kernel.accessAllowed ? 'block' : 'none';\n",
              "\n",
              "        async function convertToInteractive(key) {\n",
              "          const element = document.querySelector('#df-32cf61e5-3b0d-4926-b700-ab054b59432c');\n",
              "          const dataTable =\n",
              "            await google.colab.kernel.invokeFunction('convertToInteractive',\n",
              "                                                     [key], {});\n",
              "          if (!dataTable) return;\n",
              "\n",
              "          const docLinkHtml = 'Like what you see? Visit the ' +\n",
              "            '<a target=\"_blank\" href=https://colab.research.google.com/notebooks/data_table.ipynb>data table notebook</a>'\n",
              "            + ' to learn more about interactive tables.';\n",
              "          element.innerHTML = '';\n",
              "          dataTable['output_type'] = 'display_data';\n",
              "          await google.colab.output.renderOutput(dataTable, element);\n",
              "          const docLink = document.createElement('div');\n",
              "          docLink.innerHTML = docLinkHtml;\n",
              "          element.appendChild(docLink);\n",
              "        }\n",
              "      </script>\n",
              "    </div>\n",
              "  </div>\n",
              "  "
            ]
          },
          "metadata": {},
          "execution_count": 14
        }
      ]
    },
    {
      "cell_type": "markdown",
      "source": [
        "Then, we're augmenting clickbait headlines."
      ],
      "metadata": {
        "id": "yGJu8JrnjfIc"
      }
    },
    {
      "cell_type": "code",
      "source": [
        "def augment_clickbait(df):\n",
        "    click_df = df[df[\"Type\"] == \"Clickbait\"]\n",
        "    augment_df = pd.DataFrame(columns=click_df.columns)\n",
        "\n",
        "    for chain in (\"ka-cs\", \"he-ko\"):\n",
        "        for i in tqdm(range(len(click_df))):\n",
        "            bs = pipeline(click_df.iloc[i][\"Headline\"], chain=chain)\n",
        "            if bs:\n",
        "                augment_df = augment_df.append(click_df.iloc[i], ignore_index=True)\n",
        "                n = len(augment_df)-1\n",
        "                augment_df[\"Headline\"][n], augment_df[\"Augmented\"][n] = bs, True\n",
        "    \n",
        "    return df.append(augment_df, ignore_index=True)"
      ],
      "metadata": {
        "id": "wyz7L7XFDxqR"
      },
      "execution_count": 15,
      "outputs": []
    },
    {
      "cell_type": "code",
      "source": [
        "augmented_df = augment_clickbait(train_df)\n",
        "augmented_df"
      ],
      "metadata": {
        "colab": {
          "base_uri": "https://localhost:8080/",
          "height": 458
        },
        "id": "1lsd-_jhFCUG",
        "outputId": "03cb3581-624d-40ae-c541-47bbeded5db2"
      },
      "execution_count": 16,
      "outputs": [
        {
          "output_type": "stream",
          "name": "stderr",
          "text": [
            "100%|██████████| 282/282 [00:59<00:00,  4.77it/s]\n",
            "100%|██████████| 282/282 [00:46<00:00,  6.05it/s]\n"
          ]
        },
        {
          "output_type": "execute_result",
          "data": {
            "text/plain": [
              "                                               Headline       Type  \\\n",
              "0     В Питере семь лет простоял памятник не тому че...     Honest   \n",
              "1     США официально объявили о новых санкциях проти...     Honest   \n",
              "2     Facebook удалил страницу обсуждения штурма «Зо...     Honest   \n",
              "3                   Джонсон способен развалить Британию  Clickbait   \n",
              "4     Спортсмен–парапланерист из Москвы погиб в гора...     Honest   \n",
              "...                                                 ...        ...   \n",
              "1633  Покупатели спиртных напитков будут в ужасе от ...  Clickbait   \n",
              "1634       Обновление Windows убило мой ноутбук Lenovo.  Clickbait   \n",
              "1635     Министр обороны Великобритании угрожает России  Clickbait   \n",
              "1636  Спинное кольцо готово. Сторонники свободных вы...  Clickbait   \n",
              "1637                          Роналду говорит по-русски  Clickbait   \n",
              "\n",
              "                                    Manipulative Device Augmented  \n",
              "0                                             Assertion     False  \n",
              "1                                              Assetion     False  \n",
              "2                                             Assertion     False  \n",
              "3     False actuality inference, Other inference(Sem...     False  \n",
              "4                                             Assertion     False  \n",
              "...                                                 ...       ...  \n",
              "1633                          False actuality inference      True  \n",
              "1634  Other inference(Hyperbole), Other inference(Se...      True  \n",
              "1635  False actuality inference, Other inference(Sem...      True  \n",
              "1636                    False referentiality inference       True  \n",
              "1637                            False quality inference      True  \n",
              "\n",
              "[1638 rows x 4 columns]"
            ],
            "text/html": [
              "\n",
              "  <div id=\"df-c5df153c-9259-40e0-85e4-24ce328b42f1\">\n",
              "    <div class=\"colab-df-container\">\n",
              "      <div>\n",
              "<style scoped>\n",
              "    .dataframe tbody tr th:only-of-type {\n",
              "        vertical-align: middle;\n",
              "    }\n",
              "\n",
              "    .dataframe tbody tr th {\n",
              "        vertical-align: top;\n",
              "    }\n",
              "\n",
              "    .dataframe thead th {\n",
              "        text-align: right;\n",
              "    }\n",
              "</style>\n",
              "<table border=\"1\" class=\"dataframe\">\n",
              "  <thead>\n",
              "    <tr style=\"text-align: right;\">\n",
              "      <th></th>\n",
              "      <th>Headline</th>\n",
              "      <th>Type</th>\n",
              "      <th>Manipulative Device</th>\n",
              "      <th>Augmented</th>\n",
              "    </tr>\n",
              "  </thead>\n",
              "  <tbody>\n",
              "    <tr>\n",
              "      <th>0</th>\n",
              "      <td>В Питере семь лет простоял памятник не тому че...</td>\n",
              "      <td>Honest</td>\n",
              "      <td>Assertion</td>\n",
              "      <td>False</td>\n",
              "    </tr>\n",
              "    <tr>\n",
              "      <th>1</th>\n",
              "      <td>США официально объявили о новых санкциях проти...</td>\n",
              "      <td>Honest</td>\n",
              "      <td>Assetion</td>\n",
              "      <td>False</td>\n",
              "    </tr>\n",
              "    <tr>\n",
              "      <th>2</th>\n",
              "      <td>Facebook удалил страницу обсуждения штурма «Зо...</td>\n",
              "      <td>Honest</td>\n",
              "      <td>Assertion</td>\n",
              "      <td>False</td>\n",
              "    </tr>\n",
              "    <tr>\n",
              "      <th>3</th>\n",
              "      <td>Джонсон способен развалить Британию</td>\n",
              "      <td>Clickbait</td>\n",
              "      <td>False actuality inference, Other inference(Sem...</td>\n",
              "      <td>False</td>\n",
              "    </tr>\n",
              "    <tr>\n",
              "      <th>4</th>\n",
              "      <td>Спортсмен–парапланерист из Москвы погиб в гора...</td>\n",
              "      <td>Honest</td>\n",
              "      <td>Assertion</td>\n",
              "      <td>False</td>\n",
              "    </tr>\n",
              "    <tr>\n",
              "      <th>...</th>\n",
              "      <td>...</td>\n",
              "      <td>...</td>\n",
              "      <td>...</td>\n",
              "      <td>...</td>\n",
              "    </tr>\n",
              "    <tr>\n",
              "      <th>1633</th>\n",
              "      <td>Покупатели спиртных напитков будут в ужасе от ...</td>\n",
              "      <td>Clickbait</td>\n",
              "      <td>False actuality inference</td>\n",
              "      <td>True</td>\n",
              "    </tr>\n",
              "    <tr>\n",
              "      <th>1634</th>\n",
              "      <td>Обновление Windows убило мой ноутбук Lenovo.</td>\n",
              "      <td>Clickbait</td>\n",
              "      <td>Other inference(Hyperbole), Other inference(Se...</td>\n",
              "      <td>True</td>\n",
              "    </tr>\n",
              "    <tr>\n",
              "      <th>1635</th>\n",
              "      <td>Министр обороны Великобритании угрожает России</td>\n",
              "      <td>Clickbait</td>\n",
              "      <td>False actuality inference, Other inference(Sem...</td>\n",
              "      <td>True</td>\n",
              "    </tr>\n",
              "    <tr>\n",
              "      <th>1636</th>\n",
              "      <td>Спинное кольцо готово. Сторонники свободных вы...</td>\n",
              "      <td>Clickbait</td>\n",
              "      <td>False referentiality inference</td>\n",
              "      <td>True</td>\n",
              "    </tr>\n",
              "    <tr>\n",
              "      <th>1637</th>\n",
              "      <td>Роналду говорит по-русски</td>\n",
              "      <td>Clickbait</td>\n",
              "      <td>False quality inference</td>\n",
              "      <td>True</td>\n",
              "    </tr>\n",
              "  </tbody>\n",
              "</table>\n",
              "<p>1638 rows × 4 columns</p>\n",
              "</div>\n",
              "      <button class=\"colab-df-convert\" onclick=\"convertToInteractive('df-c5df153c-9259-40e0-85e4-24ce328b42f1')\"\n",
              "              title=\"Convert this dataframe to an interactive table.\"\n",
              "              style=\"display:none;\">\n",
              "        \n",
              "  <svg xmlns=\"http://www.w3.org/2000/svg\" height=\"24px\"viewBox=\"0 0 24 24\"\n",
              "       width=\"24px\">\n",
              "    <path d=\"M0 0h24v24H0V0z\" fill=\"none\"/>\n",
              "    <path d=\"M18.56 5.44l.94 2.06.94-2.06 2.06-.94-2.06-.94-.94-2.06-.94 2.06-2.06.94zm-11 1L8.5 8.5l.94-2.06 2.06-.94-2.06-.94L8.5 2.5l-.94 2.06-2.06.94zm10 10l.94 2.06.94-2.06 2.06-.94-2.06-.94-.94-2.06-.94 2.06-2.06.94z\"/><path d=\"M17.41 7.96l-1.37-1.37c-.4-.4-.92-.59-1.43-.59-.52 0-1.04.2-1.43.59L10.3 9.45l-7.72 7.72c-.78.78-.78 2.05 0 2.83L4 21.41c.39.39.9.59 1.41.59.51 0 1.02-.2 1.41-.59l7.78-7.78 2.81-2.81c.8-.78.8-2.07 0-2.86zM5.41 20L4 18.59l7.72-7.72 1.47 1.35L5.41 20z\"/>\n",
              "  </svg>\n",
              "      </button>\n",
              "      \n",
              "  <style>\n",
              "    .colab-df-container {\n",
              "      display:flex;\n",
              "      flex-wrap:wrap;\n",
              "      gap: 12px;\n",
              "    }\n",
              "\n",
              "    .colab-df-convert {\n",
              "      background-color: #E8F0FE;\n",
              "      border: none;\n",
              "      border-radius: 50%;\n",
              "      cursor: pointer;\n",
              "      display: none;\n",
              "      fill: #1967D2;\n",
              "      height: 32px;\n",
              "      padding: 0 0 0 0;\n",
              "      width: 32px;\n",
              "    }\n",
              "\n",
              "    .colab-df-convert:hover {\n",
              "      background-color: #E2EBFA;\n",
              "      box-shadow: 0px 1px 2px rgba(60, 64, 67, 0.3), 0px 1px 3px 1px rgba(60, 64, 67, 0.15);\n",
              "      fill: #174EA6;\n",
              "    }\n",
              "\n",
              "    [theme=dark] .colab-df-convert {\n",
              "      background-color: #3B4455;\n",
              "      fill: #D2E3FC;\n",
              "    }\n",
              "\n",
              "    [theme=dark] .colab-df-convert:hover {\n",
              "      background-color: #434B5C;\n",
              "      box-shadow: 0px 1px 3px 1px rgba(0, 0, 0, 0.15);\n",
              "      filter: drop-shadow(0px 1px 2px rgba(0, 0, 0, 0.3));\n",
              "      fill: #FFFFFF;\n",
              "    }\n",
              "  </style>\n",
              "\n",
              "      <script>\n",
              "        const buttonEl =\n",
              "          document.querySelector('#df-c5df153c-9259-40e0-85e4-24ce328b42f1 button.colab-df-convert');\n",
              "        buttonEl.style.display =\n",
              "          google.colab.kernel.accessAllowed ? 'block' : 'none';\n",
              "\n",
              "        async function convertToInteractive(key) {\n",
              "          const element = document.querySelector('#df-c5df153c-9259-40e0-85e4-24ce328b42f1');\n",
              "          const dataTable =\n",
              "            await google.colab.kernel.invokeFunction('convertToInteractive',\n",
              "                                                     [key], {});\n",
              "          if (!dataTable) return;\n",
              "\n",
              "          const docLinkHtml = 'Like what you see? Visit the ' +\n",
              "            '<a target=\"_blank\" href=https://colab.research.google.com/notebooks/data_table.ipynb>data table notebook</a>'\n",
              "            + ' to learn more about interactive tables.';\n",
              "          element.innerHTML = '';\n",
              "          dataTable['output_type'] = 'display_data';\n",
              "          await google.colab.output.renderOutput(dataTable, element);\n",
              "          const docLink = document.createElement('div');\n",
              "          docLink.innerHTML = docLinkHtml;\n",
              "          element.appendChild(docLink);\n",
              "        }\n",
              "      </script>\n",
              "    </div>\n",
              "  </div>\n",
              "  "
            ]
          },
          "metadata": {},
          "execution_count": 16
        }
      ]
    },
    {
      "cell_type": "markdown",
      "source": [
        "Let's see how the proportion of classes has changed."
      ],
      "metadata": {
        "id": "2cGEL1jojocU"
      }
    },
    {
      "cell_type": "code",
      "source": [
        "stats = pd.DataFrame(columns=[\"aug\", \"type\", \"n\", \"p\"])\n",
        "\n",
        "print(\"Original dataframe:\")\n",
        "for t in train_df[\"Type\"].unique():\n",
        "    n = len(train_df[train_df[\"Type\"]==t])\n",
        "    p = round(n/len(train_df[\"Type\"]), 2)\n",
        "    row = {\"aug\": \"original\", \"type\": t, \"n\": n, \"p\": p}\n",
        "    stats = stats.append(pd.Series(row), ignore_index=True)\n",
        "    print(t, n, p)\n",
        "\n",
        "print(\"\\nAugmented dataframe:\")\n",
        "for t in augmented_df[\"Type\"].unique():\n",
        "    n = len(augmented_df[augmented_df[\"Type\"]==t])\n",
        "    p = round(n/len(augmented_df[\"Type\"]), 2)\n",
        "    row = {\"aug\": \"augmented\", \"type\": t, \"n\": n, \"p\": p}\n",
        "    stats = stats.append(pd.Series(row), ignore_index=True)\n",
        "    print(t, n, p)\n",
        "\n",
        "click_df = augmented_df[augmented_df[\"Type\"]==\"Clickbait\"]\n",
        "for t in click_df[\"Augmented\"].unique():\n",
        "    n = len(click_df[click_df[\"Augmented\"]==t])\n",
        "    print(\"---\", f\"Augmented_{t}\", n, round(n/len(click_df[\"Augmented\"]), 2))"
      ],
      "metadata": {
        "colab": {
          "base_uri": "https://localhost:8080/"
        },
        "id": "O0I_LnR4YYse",
        "outputId": "dfab2401-3f35-4f4d-e493-ba815777109f"
      },
      "execution_count": 56,
      "outputs": [
        {
          "output_type": "stream",
          "name": "stdout",
          "text": [
            "Original dataframe:\n",
            "Honest 883 0.76\n",
            "Clickbait 282 0.24\n",
            "\n",
            "Augmented dataframe:\n",
            "Honest 883 0.54\n",
            "Clickbait 755 0.46\n",
            "--- Augmented_False 282 0.37\n",
            "--- Augmented_True 473 0.63\n"
          ]
        }
      ]
    },
    {
      "cell_type": "code",
      "source": [
        "import seaborn as sns\n",
        "import matplotlib.pyplot as plt"
      ],
      "metadata": {
        "id": "CBpjdKBNpmbP"
      },
      "execution_count": 42,
      "outputs": []
    },
    {
      "cell_type": "code",
      "source": [
        "plt.ylim(0, 1000)\n",
        "sns.barplot(x=\"aug\", y=\"n\", data=stats, hue=\"type\")"
      ],
      "metadata": {
        "colab": {
          "base_uri": "https://localhost:8080/",
          "height": 472
        },
        "id": "GSyC1cD8pvY6",
        "outputId": "b1e95bab-5c71-4211-a0b1-94a3525ea598"
      },
      "execution_count": 60,
      "outputs": [
        {
          "output_type": "execute_result",
          "data": {
            "text/plain": [
              "<Axes: xlabel='aug', ylabel='n'>"
            ]
          },
          "metadata": {},
          "execution_count": 60
        },
        {
          "output_type": "display_data",
          "data": {
            "text/plain": [
              "<Figure size 640x480 with 1 Axes>"
            ],
            "image/png": "[encoded data removed]"
          },
          "metadata": {}
        }
      ]
    },
    {
      "cell_type": "markdown",
      "source": [
        "Hooray! The classes are almost identical in size."
      ],
      "metadata": {
        "id": "QhmZVDr0jxz3"
      }
    },
    {
      "cell_type": "code",
      "source": [
        "augmented_df.to_csv(\"augmented_train.csv\")"
      ],
      "metadata": {
        "id": "SW4YDznfZqtw"
      },
      "execution_count": 18,
      "outputs": []
    }
  ]
}